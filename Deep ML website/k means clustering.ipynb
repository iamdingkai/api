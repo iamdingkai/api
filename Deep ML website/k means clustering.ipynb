{
 "cells": [
  {
   "cell_type": "code",
   "execution_count": 1,
   "metadata": {},
   "outputs": [],
   "source": [
    "points = [(1, 2), (1, 4), (1, 0), (10, 2), (10, 4), (10, 0)]\n",
    "k = 2\n",
    "initial_centroids = [(1, 1), (10, 1)]\n",
    "max_iterations = 10\n",
    "\n"
   ]
  },
  {
   "cell_type": "code",
   "execution_count": null,
   "metadata": {},
   "outputs": [],
   "source": [
    "import numpy as np\n",
    "import collections\n",
    "\n",
    "def calc_distance(p1, p2):\n",
    "    x1, y1 = p1\n",
    "    x2, y2 = p2\n",
    "    return np.sqrt((x2 - x1) ** 2 + (y2 - y1) ** 2)\n",
    "\n",
    "\n",
    "def find_closest_centroid(p, centroids):\n",
    "    distances = [calc_distance(p, c) for c in centroids]\n",
    "    i = np.argmin(distances)\n",
    "    return i\n",
    "\n",
    "\n",
    "def calc_L1_norm(a, b):\n",
    "    return max([abs(ai - bi) for (ai, bi) in enumerate(a, b)])\n",
    "\n",
    "def calc_mean_of_points(i_list, points):\n",
    "    if i_list == []:\n",
    "        return np.nan\n",
    "    ans = (\n",
    "        np.mean([points[i][0] for i in i_list]),\n",
    "        np.mean([points[i][1] for i in i_list])\n",
    "    )\n",
    "    ans = [np.round(ans[0], 4), np.round(ans[1], 4)]\n",
    "    return ans\n",
    "\n",
    "\n",
    "def calc_new_centroids(d_new, k, points):\n",
    "    d_new_reverse = collections.defaultdict(list)\n",
    "    for i, j in d_new.items():\n",
    "        d_new_reverse[j].append(i) \n",
    "    # each centroid j will contain a bunch of points that belong to it\n",
    "    # what if a centroid has no points belonging to it\n",
    "\n",
    "    new_centroids = [calc_mean_of_points(i_list, points) for i_list in d_new_reverse.values()] # calculate new centroids\n",
    "    if len(new_centroids) < k:\n",
    "        new_centroids = new_centroids + [np.random.choice(points)]\n",
    "\n",
    "    return new_centroids\n",
    "\n",
    "\n",
    "def k_means_clustering(\n",
    "    points: list[tuple[float, float]], \n",
    "    k: int, \n",
    "    initial_centroids: list[tuple[float, float]], \n",
    "    max_iterations: int,\n",
    "    ) -> list[tuple[float, float]]:\n",
    "\n",
    "    k = len(initial_centroids)\n",
    "    iter = 0\n",
    "    diff = 1e10\n",
    "    centroids = initial_centroids\n",
    "    while iter <= max_iterations and diff > 0:\n",
    "        iter += 1\n",
    "\n",
    "        # find nearest centroid for each point\n",
    "        d_new = {i: find_closest_centroid(p, centroids) for i, p in enumerate(points)} # points[i] belongs to centroid d_new[i]\n",
    "\n",
    "        centorids_new = calc_new_centroids(d_new, k, points)\n",
    "        \n",
    "        diff = calc_L1_norm(centroids, centorids_new)\n",
    "        centroids = centorids_new\n",
    "\n",
    "\n",
    "    return centroids"
   ]
  },
  {
   "cell_type": "code",
   "execution_count": null,
   "metadata": {},
   "outputs": [],
   "source": []
  },
  {
   "cell_type": "code",
   "execution_count": null,
   "metadata": {},
   "outputs": [],
   "source": []
  },
  {
   "cell_type": "code",
   "execution_count": null,
   "metadata": {},
   "outputs": [],
   "source": []
  },
  {
   "cell_type": "code",
   "execution_count": null,
   "metadata": {},
   "outputs": [],
   "source": []
  },
  {
   "cell_type": "code",
   "execution_count": null,
   "metadata": {},
   "outputs": [],
   "source": []
  }
 ],
 "metadata": {
  "kernelspec": {
   "display_name": "base",
   "language": "python",
   "name": "python3"
  },
  "language_info": {
   "codemirror_mode": {
    "name": "ipython",
    "version": 3
   },
   "file_extension": ".py",
   "mimetype": "text/x-python",
   "name": "python",
   "nbconvert_exporter": "python",
   "pygments_lexer": "ipython3",
   "version": "3.10.9"
  }
 },
 "nbformat": 4,
 "nbformat_minor": 2
}
